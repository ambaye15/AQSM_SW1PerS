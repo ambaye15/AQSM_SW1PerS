{
 "cells": [
  {
   "cell_type": "code",
   "execution_count": null,
   "id": "3001db85-4415-4cb0-b886-74631a2929ac",
   "metadata": {},
   "outputs": [],
   "source": [
    "import pandas as pd\n",
    "import matplotlib.pyplot as plt\n",
    "import csv\n",
    "\n",
    "from classification_tools.experiments import *\n",
    "from classification_tools.plotting import *\n",
    "from AQSM_SW1PerS.utils.paths import get_data_path\n",
    "\n",
    "%matplotlib inline"
   ]
  },
  {
   "cell_type": "markdown",
   "id": "4e431ec0-f2ef-434c-8560-59fb69440a53",
   "metadata": {},
   "source": [
    "# Running Experiments\n",
    "\n",
    "Below we use the `ClassificationExperiments` class in `classification_tools/experiments` to run and evaluate the different classification experiments presented in the paper. The class provides a unified interface for:\n",
    "\n",
    "- Loading preprocessed feature sets from `scores_dir`(the different directories are located in the Dataset directory)  \n",
    "- Splitting data according to the chosen experimental design (e.g., Stratified, LOCO, LOSO)  \n",
    "- Optionally applying feature selection and hyperparameter optimization using Bayesian optimization\n",
    "- Training and evaluating a Random Forest classifier\n",
    "\n",
    "\n",
    "The parameters one must choose for `ClassificationExperiments` are as follows:\n",
    "\n",
    "- `scores_dir` (str): directory where the `.csv` files for a given experiment are located.\n",
    "- `experiment` (str): experimental design (Default = 'stratified'). May also choose 'LOSO' (Leave-one-Session-Out) or 'LOCO' (Leave-one-Individual-Out), must manually add more if desired. When set to 'stratified', it will return \n",
    "- `input_modality` (str): either 'accelerometer' or 'pose' (Default = 'pose').\n",
    "- `method` (str): topologically-derived periodicity score method, either 'PS1' or 'PS10' (Default = 'PS1').\n",
    "- `binary` (bool): perform binary if set True, multiclass if set to False Default = True).\n",
    "- `include_freq` (bool): Should only be toggled True for accelerometer data unless high frame-rate videos are used. Supplemental feature to boost classification accuracy for accelerometer data (Default = False).\n",
    "- `optimize` (bool): If True, then will find near-optimal hyperparameters using Bayesian optimization (Default = False).\n",
    "- `load_params` (dict): Optionally load pre-optimized hyperparameters presented above (Default = None). Will be used if optimize = False.\n",
    "- `optimize_feature_space` (bool): Along with hyperparameters, also optimize the selection of features (e.g. sensors or landmarks) used (Default = False).\n",
    "- `random_state` (int): For reproducibility (Default= 42).\n",
    "\n",
    "\n",
    "All visualization tools are located in `classification_tools/plotting`"
   ]
  },
  {
   "cell_type": "markdown",
   "id": "206aadcc-0c7b-4b00-a70a-b016c30d582e",
   "metadata": {},
   "source": [
    "## Example: Stratified Classification of Accelerometer data"
   ]
  },
  {
   "cell_type": "code",
   "execution_count": null,
   "id": "fc0913f1-aded-41d0-9e32-72be7c6ab321",
   "metadata": {},
   "outputs": [],
   "source": [
    "#Change as desired for use\n",
    "\n",
    "scores_dir = get_data_path('experiments/experiment_1/accelerometer_exp1')\n",
    "experiment = 'stratified'\n",
    "input_modality = 'accelerometer'\n",
    "method = 'PS1'\n",
    "binary = True\n",
    "include_freq = False\n",
    "optimize = True\n",
    "params = False\n",
    "optimize_feature_space = False"
   ]
  },
  {
   "cell_type": "code",
   "execution_count": null,
   "id": "11c4999f-3396-441c-b5ba-9fa971deba1a",
   "metadata": {},
   "outputs": [],
   "source": [
    "#Example: Stratified classification (Experiment 1) using above parameters and scores_dir\n",
    "\n",
    "ClassExp = ClassificationExperiments(scores_dir, \n",
    "                                     experiment = experiment, \n",
    "                                     input_modality = input_modality, \n",
    "                                     method = method, \n",
    "                                     binary = binary,\n",
    "                                     include_freq = include_freq,\n",
    "                                     optimize = optimize,\n",
    "                                     load_params = params,\n",
    "                                     optimize_feature_space = optimize_feature_space,\n",
    "                                     )\n",
    "\n",
    "\n",
    "ClassExp.run_classification_experiment()"
   ]
  },
  {
   "cell_type": "code",
   "execution_count": null,
   "id": "4d8cf1b8-2261-4ff2-96ca-bb2f9971abfd",
   "metadata": {},
   "outputs": [],
   "source": [
    "# View Model's decisions with confusion matrix\n",
    "cm = confusion_matrix(ClassExp.y_test, ClassExp.test_predictions)\n",
    "disp = ConfusionMatrixDisplay(confusion_matrix=cm, display_labels=ClassExp.class_names)\n",
    "disp.plot(cmap=\"Blues\", xticks_rotation=45, colorbar=False)"
   ]
  },
  {
   "cell_type": "markdown",
   "id": "908c2e63-813b-4b92-a575-66d75495b1fc",
   "metadata": {},
   "source": [
    "## Example: LOSO Classification of Pose data"
   ]
  },
  {
   "cell_type": "code",
   "execution_count": null,
   "id": "17595302-cd75-4ecb-9f1b-93e83526074f",
   "metadata": {},
   "outputs": [],
   "source": [
    "#Change as desired for use\n",
    "\n",
    "scores_dir = get_data_path('experiments/experiment_234/pose_exp234')\n",
    "experiment = 'LOSO'\n",
    "input_modality = 'pose'\n",
    "method = 'PS10'\n",
    "binary = True\n",
    "include_freq = False\n",
    "optimize = True\n",
    "params = False\n",
    "optimize_feature_space = True"
   ]
  },
  {
   "cell_type": "code",
   "execution_count": null,
   "id": "c27c2513-1b1f-4ac8-97d6-19bd2ffd646d",
   "metadata": {},
   "outputs": [],
   "source": [
    "#Example: Stratified classification (Experiment 1) using above parameters and scores_dir\n",
    "\n",
    "ClassExp = ClassificationExperiments(scores_dir, \n",
    "                                     experiment = experiment, \n",
    "                                     input_modality = input_modality, \n",
    "                                     method = method, \n",
    "                                     binary = binary,\n",
    "                                     include_freq = include_freq,\n",
    "                                     optimize = optimize,\n",
    "                                     load_params = params,\n",
    "                                     optimize_feature_space = optimize_feature_space,\n",
    "                                     )\n",
    "\n",
    "\n",
    "ClassExp.run_classification_experiment()"
   ]
  },
  {
   "cell_type": "markdown",
   "id": "4beb8c95-5911-4450-b268-240b45e6b313",
   "metadata": {},
   "source": [
    "## Example: LOCO Classification of Accelerometer data"
   ]
  },
  {
   "cell_type": "code",
   "execution_count": null,
   "id": "d79cde26-c855-4cd3-a1d7-b2583224b17d",
   "metadata": {},
   "outputs": [],
   "source": [
    "#Change as desired for use\n",
    "scores_dir = get_data_path('experiments/experiment_234/accelerometer_exp234')\n",
    "experiment = 'LOSO'\n",
    "input_modality = 'accelerometer'\n",
    "method = 'PS1'\n",
    "binary = True\n",
    "include_freq = True\n",
    "optimize = True\n",
    "params = False\n",
    "optimize_feature_space = False"
   ]
  },
  {
   "cell_type": "code",
   "execution_count": null,
   "id": "014ab403-e64b-4078-adbc-6d486e9c0f0f",
   "metadata": {},
   "outputs": [],
   "source": [
    "#Example: Stratified classification (Experiment 1) using above parameters and scores_dir\n",
    "\n",
    "ClassExp = ClassificationExperiments(scores_dir, \n",
    "                                     experiment = experiment, \n",
    "                                     input_modality = input_modality, \n",
    "                                     method = method, \n",
    "                                     binary = binary,\n",
    "                                     include_freq = include_freq,\n",
    "                                     optimize = optimize,\n",
    "                                     load_params = params,\n",
    "                                     optimize_feature_space = optimize_feature_space,\n",
    "                                     )\n",
    "\n",
    "\n",
    "ClassExp.run_classification_experiment()"
   ]
  },
  {
   "cell_type": "markdown",
   "id": "15bd21e3-cebd-41e3-9f32-6af073d7a9e4",
   "metadata": {},
   "source": [
    "# Visualizations\n",
    "\n",
    "Below is how we can use the class to recreate the visualizations presented in the paper. We call two initializations of `ClassificationExperiments` to compare $PS_1$ and $PS_{10}$ with the above parameters."
   ]
  },
  {
   "cell_type": "code",
   "execution_count": null,
   "id": "a55a21cc-b5c3-4c83-a5fc-3187cbf4bc7c",
   "metadata": {},
   "outputs": [],
   "source": [
    "\n",
    "scores_dir = get_data_path('experiments/experiment_1/pose_exp1')\n",
    "experiment = 'stratified'\n",
    "input_modality = 'pose'\n",
    "binary = True\n",
    "include_freq = False\n",
    "optimize = True\n",
    "optimize_feature_space = True\n",
    "return_model = True\n",
    "\n",
    "\n",
    "ClassExp_1 = ClassificationExperiments(scores_dir, \n",
    "                                     experiment = experiment, \n",
    "                                     input_modality = input_modality, \n",
    "                                     method = 'PS1', \n",
    "                                     binary = binary,\n",
    "                                     include_freq = include_freq,\n",
    "                                     optimize = optimize,\n",
    "                                     load_params = None,\n",
    "                                     optimize_feature_space = optimize_feature_space,\n",
    "                                     return_model = return_model)\n",
    "\n",
    "\n",
    "ClassExp_1.run_classification_experiment()\n",
    "\n",
    "model_1 = ClassExp_1.model\n",
    "\n",
    "ClassExp_10 = ClassificationExperiments(scores_dir, \n",
    "                                     experiment = experiment, \n",
    "                                     input_modality = input_modality, \n",
    "                                     method = 'PS10', \n",
    "                                     binary = binary,\n",
    "                                     include_freq = include_freq,\n",
    "                                     optimize = optimize,\n",
    "                                     load_params = None,\n",
    "                                     optimize_feature_space = optimize_feature_space,\n",
    "                                     return_model = return_model)\n",
    "\n",
    "\n",
    "ClassExp_10.run_classification_experiment()\n",
    "model_10 = ClassExp_10.model\n"
   ]
  },
  {
   "cell_type": "code",
   "execution_count": null,
   "id": "5e3c1e54-c510-44ea-bb69-5a0bb94c9c06",
   "metadata": {},
   "outputs": [],
   "source": [
    "plot1_title = fr'$PS_1$ Pose Binary'\n",
    "plot2_title = r'$PS_{10}$ Pose Binary'\n",
    "\n",
    "compare_confusion_matrices(ClassExp_1, ClassExp_10, plot1_title, plot2_title, save_fig = False)"
   ]
  },
  {
   "cell_type": "code",
   "execution_count": null,
   "id": "836402d6-d1af-4c41-840f-60a8c6896add",
   "metadata": {},
   "outputs": [],
   "source": [
    "plot1_title = fr'Pose Precision-Recall Curve Binary ($PS_1$)'\n",
    "plot2_title = r'Pose Precision-Recall Curve Binary ($PS_{10}$)'\n",
    "\n",
    "compare_pr_curves(ClassExp_1, model_1, ClassExp_10, model_10, binary = binary, plot1_title, plot2_title, save_fig = False)"
   ]
  },
  {
   "cell_type": "code",
   "execution_count": null,
   "id": "61ad5f30-3496-46bd-99a4-616a0a8e8155",
   "metadata": {},
   "outputs": [],
   "source": [
    "plot1_title = fr'Pose $PS_1$ Binary - Feature Importances'\n",
    "plot2_title = r'Pose $PS_{10}$ Binary - Feature Importances'\n",
    "\n",
    "compare_feature_importances(ClassExp_1, model_1, ClassExp_10, model_10, plot1_title, plot2_title, save_fig = False)"
   ]
  },
  {
   "cell_type": "markdown",
   "id": "cdbb14c8-68b7-47ff-a172-31b66206b561",
   "metadata": {},
   "source": [
    "# Visualizations - Feature Space\n",
    "\n",
    "The following is used to create the UMAP visualizations presented in the paper"
   ]
  },
  {
   "cell_type": "code",
   "execution_count": null,
   "id": "7013d421-8ad9-45e0-8150-b04fd95ee86c",
   "metadata": {},
   "outputs": [],
   "source": [
    "#Change as desired for use\n",
    "\n",
    "scores_dir = get_data_path('')\n",
    "input_modality = 'accelerometer'\n",
    "method = 'PS1'\n",
    "include_freq = True\n",
    "\n",
    "Feature_extraction = ClassificationExperiments(scores_dir, input_modality = input_modality, method = method, include_freq = include_freq)\n",
    "Feature_extraction.load_data()\n",
    "X_features = Feature_extraction.features\n"
   ]
  },
  {
   "cell_type": "code",
   "execution_count": null,
   "id": "c4fa8466-2f69-4704-912b-132fd7d9f33c",
   "metadata": {},
   "outputs": [],
   "source": [
    "explained_variance_plots(X_features)"
   ]
  },
  {
   "cell_type": "code",
   "execution_count": null,
   "id": "f260e2dd-8b18-493f-9c60-a76b305b42b5",
   "metadata": {},
   "outputs": [],
   "source": [
    "df_umap = umap_reduction(X_features, Feature_extraction)"
   ]
  },
  {
   "cell_type": "code",
   "execution_count": null,
   "id": "55a4ffdc-d584-4067-a7fe-53f64a052810",
   "metadata": {},
   "outputs": [],
   "source": [
    "plot_interactive(df_umap, color_by_anno = True, save_html=False)"
   ]
  },
  {
   "cell_type": "code",
   "execution_count": null,
   "id": "81fc5db9-c5d7-499c-9ca8-fbaab64ac2f6",
   "metadata": {},
   "outputs": [],
   "source": [
    "#Choose what UMAP components you wish to see\n",
    "x_axis = 'UMAP1' \n",
    "y_axis = 'UMAP2'\n",
    "\n",
    "plot_umap_comparison(df_umap, x_axis, y_axis, method, save_fig = False)"
   ]
  }
 ],
 "metadata": {
  "kernelspec": {
   "display_name": "Python 3 (ipykernel)",
   "language": "python",
   "name": "python3"
  },
  "language_info": {
   "codemirror_mode": {
    "name": "ipython",
    "version": 3
   },
   "file_extension": ".py",
   "mimetype": "text/x-python",
   "name": "python",
   "nbconvert_exporter": "python",
   "pygments_lexer": "ipython3",
   "version": "3.12.1"
  }
 },
 "nbformat": 4,
 "nbformat_minor": 5
}
